{
 "cells": [
  {
   "cell_type": "code",
   "execution_count": 90,
   "metadata": {},
   "outputs": [
    {
     "name": "stdout",
     "output_type": "stream",
     "text": [
      "Inserted list: 4\t6\t2\t7\t1\t\n",
      "Deleted 1: 4\t6\t2\t7\t\n",
      "Deleted 4: 6\t2\t7\t\n",
      "Deleted 2: 6\t7\t"
     ]
    }
   ],
   "source": [
    "class node:\n",
    "    def __init__(self):\n",
    "        self.data = None\n",
    "        self.next = None\n",
    "        \n",
    "head = None\n",
    "\n",
    "def insert(head, data):\n",
    "    n = node()\n",
    "    q = head\n",
    "    if q == None:\n",
    "        n.data = data\n",
    "        n.next = None\n",
    "        head = n\n",
    "        q = head\n",
    "    else:\n",
    "        while q.next != None:\n",
    "            q = q.next\n",
    "        q.next = n\n",
    "        n.data = data\n",
    "        n.next = None\n",
    "    return head\n",
    "        \n",
    "def display(head):\n",
    "    q = head\n",
    "    if q == None:\n",
    "        print(\"List is empty\")\n",
    "    else:\n",
    "        while q != None:\n",
    "            print(q.data, end=\"\\t\")\n",
    "            q = q.next\n",
    "            \n",
    "def delete(head, data):\n",
    "    q = head\n",
    "    if q == None:\n",
    "        print(\"List is empty\")\n",
    "    else:\n",
    "        if q.data == data:\n",
    "            head = q.next\n",
    "            del q\n",
    "        else:\n",
    "            while q.next.data != data:\n",
    "                q = q.next\n",
    "            q.next, temp = q.next.next, q.next\n",
    "            del temp\n",
    "    return head\n",
    "            \n",
    "head = insert(head, 4)\n",
    "head = insert(head, 6)\n",
    "head = insert(head, 2)\n",
    "head = insert(head, 7)\n",
    "head = insert(head, 1)\n",
    "print(\"Inserted list: \", end=\"\")\n",
    "display(head)\n",
    "\n",
    "head = delete(head, 1)\n",
    "print()\n",
    "print(\"Deleted 1: \", end=\"\")\n",
    "display(head)\n",
    "\n",
    "head = delete(head, 4)\n",
    "print()\n",
    "print(\"Deleted 4: \", end=\"\")\n",
    "display(head)\n",
    "\n",
    "head = delete(head, 2)\n",
    "print()\n",
    "print(\"Deleted 2: \", end=\"\")\n",
    "display(head)"
   ]
  },
  {
   "cell_type": "code",
   "execution_count": null,
   "metadata": {},
   "outputs": [],
   "source": []
  }
 ],
 "metadata": {
  "kernelspec": {
   "display_name": "Python 3",
   "language": "python",
   "name": "python3"
  },
  "language_info": {
   "codemirror_mode": {
    "name": "ipython",
    "version": 3
   },
   "file_extension": ".py",
   "mimetype": "text/x-python",
   "name": "python",
   "nbconvert_exporter": "python",
   "pygments_lexer": "ipython3",
   "version": "3.6.8"
  }
 },
 "nbformat": 4,
 "nbformat_minor": 2
}
